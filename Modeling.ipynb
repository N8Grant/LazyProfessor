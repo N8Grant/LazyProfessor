{
 "cells": [
  {
   "cell_type": "code",
   "execution_count": 1,
   "metadata": {},
   "outputs": [
    {
     "data": {
      "text/plain": [
       "device(type='cpu')"
      ]
     },
     "execution_count": 1,
     "metadata": {},
     "output_type": "execute_result"
    }
   ],
   "source": [
    "import numpy as np\n",
    "import pandas as pd\n",
    "from bs4 import BeautifulSoup\n",
    "import requests\n",
    "import re\n",
    "from datetime import date\n",
    "import re\n",
    "import torch\n",
    "import matplotlib.pyplot as plt\n",
    "from pacmap import PaCMAP\n",
    "from transformers import AutoTokenizer, AutoModel\n",
    "import arxiv\n",
    "from sklearn.neighbors import KNeighborsTransformer\n",
    "from IPython.display import clear_output\n",
    "from datetime import date\n",
    "from datetime import timedelta\n",
    "from pymongo import MongoClient\n",
    "from datetime import datetime\n",
    "from torch import nn\n",
    "from database_utils import *\n",
    "from torch.utils.data import Dataset, DataLoader\n",
    "import torch.nn.functional as F\n",
    "device = 'cpu'\n",
    "torch.device(device)"
   ]
  },
  {
   "cell_type": "code",
   "execution_count": 2,
   "metadata": {},
   "outputs": [],
   "source": [
    "def mean_pooling(model_output, attention_mask):\n",
    "    token_embeddings = model_output[0] #First element of model_output contains all token embeddings\n",
    "    input_mask_expanded = attention_mask.unsqueeze(-1).expand(token_embeddings.size()).float()\n",
    "    return torch.sum(token_embeddings * input_mask_expanded, 1) / torch.clamp(input_mask_expanded.sum(1), min=1e-9)"
   ]
  },
  {
   "cell_type": "code",
   "execution_count": 3,
   "metadata": {
    "code_folding": [
     0
    ]
   },
   "outputs": [],
   "source": [
    "class ClickedDataset(Dataset):\n",
    "    def __init__(self, abstracts, item_vectors,abstract_map):\n",
    "        self.item_vectors = item_vectors.astype(np.float32)\n",
    "        self.abstracts = abstracts\n",
    "        self.abstract_map = abstract_map\n",
    "\n",
    "    def __len__(self):\n",
    "        return len(self.item_vectors)\n",
    "\n",
    "    def __getitem__(self, idx):\n",
    "        if torch.is_tensor(idx):\n",
    "            idx = idx.tolist()\n",
    "            \n",
    "        abstract = self.abstracts[self.abstract_map[idx]]\n",
    "        item_vecs = self.item_vectors[idx]\n",
    "        \n",
    "        sample = (abstract,item_vecs)\n",
    "\n",
    "        return sample    \n",
    "    \n",
    "class paperBERT(nn.Module):\n",
    "    def __init__(self, num_papers, latent_dim):\n",
    "        super(paperBERT, self).__init__()\n",
    "        self.longformer = AutoModel.from_pretrained('allenai/longformer-base-4096')\n",
    "        self.tokenizer = AutoTokenizer.from_pretrained('allenai/longformer-base-4096')\n",
    "        \n",
    "        self.user_encoder = nn.Sequential(\n",
    "            nn.Linear(num_papers),\n",
    "            nn.Linear(512),\n",
    "            nn.Linear(512),\n",
    "        )\n",
    "        \n",
    "        self.linear1 = nn.Linear(768, 256)\n",
    "        self.linear2 = nn.Linear(256, latent_dim)\n",
    "        \n",
    "    def forward(self,data):\n",
    "        encoding = self.tokenizer.batch_encode_plus(data, return_tensors='pt', padding=True,\n",
    "                                                       truncation=True, add_special_tokens = True).to(device)\n",
    "        input_ids = encoding['input_ids']\n",
    "        attention_mask = encoding['attention_mask']\n",
    "        \n",
    "        model_output = self.longformer(\n",
    "               input_ids, \n",
    "               attention_mask=attention_mask)\n",
    "\n",
    "        # sequence_output has the following shape: (batch_size, sequence_length, 768)\n",
    "        sequence_output=  mean_pooling(model_output, attention_mask)\n",
    "        linear1_output = self.linear1(sequence_output.view(-1,768)) ## extract the 1st token's embeddings\n",
    "        linear2_output = self.linear2(linear1_output)\n",
    "\n",
    "        return linear2_output\n",
    "    \n",
    "    def train(self,data_loader,epochs):\n",
    "        criterion = nn.MSELoss() ## If required define your own criterion\n",
    "        optimizer = torch.optim.Adam(filter(lambda p: p.requires_grad, model.parameters()))\n",
    "\n",
    "        for epoch in range(epochs):\n",
    "            for batch in data_loader: ## If you have a DataLoader()  object to get the data.\n",
    "                \n",
    "                data = list(batch[0])\n",
    "                targets = batch[1] ## assuming that data loader returns a tuple of data and its targets\n",
    "                \n",
    "                optimizer.zero_grad()   \n",
    "                outputs = model(data)\n",
    "                outputs = torch.tanh(outputs)\n",
    "                loss = criterion(outputs, targets)\n",
    "                loss.backward()\n",
    "                optimizer.step()\n",
    "    \n",
    "    @torch.no_grad()\n",
    "    def predict(self, data):\n",
    "        with torch.no_grad():\n",
    "            encoding = self.tokenizer.batch_encode_plus(data, return_tensors='pt', padding=True,\n",
    "                                                           truncation=True, add_special_tokens = True).to(device)\n",
    "            input_ids = encoding['input_ids']\n",
    "            attention_mask = encoding['attention_mask']\n",
    "\n",
    "            model_output = self.longformer(\n",
    "                   input_ids, \n",
    "                   attention_mask=attention_mask)\n",
    "\n",
    "            # sequence_output has the following shape: (batch_size, sequence_length, 768)\n",
    "            sequence_output=  mean_pooling(model_output, attention_mask)\n",
    "            print(sequence_output.shape)\n",
    "            linear1_output = self.linear1(sequence_output.view(-1,768)) ## extract the 1st token's embeddings\n",
    "            linear2_output = self.linear2(linear1_output)\n",
    "            outputs = torch.tanh(linear2_output)\n",
    "        return outputs.numpy()"
   ]
  },
  {
   "cell_type": "code",
   "execution_count": 4,
   "metadata": {
    "code_folding": [
     0,
     5
    ]
   },
   "outputs": [],
   "source": [
    "def loss(X, Y, Z, mask, lam):\n",
    "    return np.sum( ((Y.T @ Z - X) ** 2)[mask] ) \\\n",
    "       + lam * np.linalg.norm(Y, ord=\"fro\") \\\n",
    "       + lam * np.linalg.norm(Z, ord=\"fro\")\n",
    "\n",
    "def approximate(data_dense, rank, lam,max_iteration=1000,Y_start=None,Z_start=None):\n",
    "    # initialize low-rank approximation matrix as a product of two \n",
    "    # Y @ Z = X_bar\n",
    "    data_mask = np.ones(data_dense.shape, dtype=np.bool)\n",
    "    if Y_start is not None and Z_start is not None:\n",
    "        Y = Y_start\n",
    "        Z = Z_start\n",
    "    else:\n",
    "        Y = np.random.randn(rank, data_dense.shape[0])\n",
    "        Z = np.random.randn(rank, data_dense.shape[1])\n",
    "\n",
    "    # calculation speedup\n",
    "    lam_I = lam * np.eye(rank)\n",
    "\n",
    "    # alternating least squares until convergence\n",
    "    prev_obj = loss(data_dense, Y, Z, data_mask, lam)\n",
    "    converged = False\n",
    "\n",
    "    print(\"Start objective:\", prev_obj)\n",
    "\n",
    "    prev_Y = Y.copy()\n",
    "    prev_Z = Z.copy()\n",
    "    for iteration in range(1, max_iteration + 1):\n",
    "        if iteration % 10 == 0:\n",
    "            print(\"Iteration:\", iteration)\n",
    "            print(\"Current objective:\", prev_obj)\n",
    "\n",
    "        # optimize Y based on current value of Z\n",
    "        for col in range(Y.shape[1]):\n",
    "            has_rating = data_mask[col]\n",
    "            ratings = data_dense[col, has_rating]\n",
    "            Z_relevant_columns = Z[:, has_rating]\n",
    "            regularized_cov = np.sum([c.reshape([-1, 1]) @ c.reshape([1, -1]) for\n",
    "                                    c in Z_relevant_columns.T], axis=0) + lam_I\n",
    "            weighted_sum = np.sum(Z_relevant_columns * ratings, axis=1)\n",
    "            Y[:, col] = np.linalg.inv(regularized_cov) @ weighted_sum\n",
    "\n",
    "        # optimize Z based on current values of Y\n",
    "        for col in range(Z.shape[1]):\n",
    "            has_rating = data_mask[:, col]\n",
    "            ratings = data_dense[has_rating, col]\n",
    "            Y_relevant_columns = Y[:, has_rating]\n",
    "            regularized_cov = np.sum([c.reshape([-1, 1]) @ c.reshape([1, -1]) for\n",
    "                                    c in Y_relevant_columns.T], axis=0) + lam_I\n",
    "            weighted_sum = np.sum(Y_relevant_columns * ratings, axis=1)\n",
    "            Z[:, col] = np.linalg.inv(regularized_cov) @ weighted_sum\n",
    "\n",
    "        obj = loss(data_dense, Y, Z, data_mask, lam)\n",
    "\n",
    "        # convergence criteria. prevents division by 0.\n",
    "        if abs(obj - prev_obj) / ( abs(prev_obj) + 1e-8 ) < TOLERANCE:\n",
    "            converged = True\n",
    "            break\n",
    "\n",
    "        prev_obj = obj\n",
    "\n",
    "    print(\"Converged:\", converged)\n",
    "    print(\"# iterations:\", iteration)\n",
    "    print(\"Final objective:\", obj)\n",
    "\n",
    "    # report final low-rank matrix\n",
    "    return Y.T, Z.T"
   ]
  },
  {
   "cell_type": "code",
   "execution_count": 136,
   "metadata": {
    "code_folding": [
     9,
     26,
     39,
     52,
     62,
     81
    ]
   },
   "outputs": [],
   "source": [
    "PERPLEXITY=5\n",
    "g_kernel=1\n",
    "EPOCHS=2000\n",
    "LR=200\n",
    "MOMENTUM=0.99\n",
    "\n",
    "def getKey(item):\n",
    "    return item[1]\n",
    "\n",
    "def k_neighbours(x,x1_index,p_or_q='p'):\n",
    "    x1=x[x1_index]\n",
    "    list_k_neighbours=[]\n",
    "    for i in range(x.shape[0]):\n",
    "        if i!=x1_index:\n",
    "            xi=x[i]\n",
    "            if p_or_q=='p':\n",
    "                distance=np.exp(-np.linalg.norm(x1-xi)**2/(2*g_kernel**2))\n",
    "            else:\n",
    "                distance=(1+np.linalg.norm(x1-xi)**2)**-1\n",
    "            list_k_neighbours.append([i,distance])\n",
    "    \n",
    "    list_k_neighbours=sorted(list_k_neighbours,key=getKey)\n",
    "    return list_k_neighbours[:PERPLEXITY]\n",
    "\n",
    "#compute the similarity pij between two xi,xj in the original space\n",
    "#divide the distance between xi,xj by the sum of the distances of the k_neightbours where k is the complexity\n",
    "def compute_pij(x,x1_index,x2_index):\n",
    "    x1=x[x1_index]\n",
    "    x2=x[x2_index]\n",
    "    # num=(1+np.linalg.norm(x1-x2)**2)**(-1)/(2*g_kernel**2))\n",
    "    num=np.exp(-np.linalg.norm(x1-x2)**2)/(2*g_kernel**2)\n",
    "    denom=0\n",
    "    list_k_neighbours=k_neighbours(x,x1_index,'p')\n",
    "    for i in list_k_neighbours:\n",
    "        denom+=i[1]\n",
    "    return num/denom\n",
    "\n",
    "\n",
    "#compute the table p of the xij in the original space\n",
    "def compute_p(x):\n",
    "    table=np.zeros((x.shape[0],x.shape[0]))\n",
    "    for i in range(x.shape[0]):\n",
    "        for j in range(x.shape[0]):\n",
    "            if i!=j:\n",
    "                pij=compute_pij(x,i,j)\n",
    "                pji=compute_pij(x,j,i)\n",
    "                table[i,j]=(pij+pji)/(2*x.shape[0])\n",
    "                # table[i,j]=pij\n",
    "    return table\n",
    "\n",
    "#compute the similarity qij between two yi,yj in the new space\n",
    "#divide the distance between yi,yj by the sum of the distances of the k_neightbours where k is the complexity\n",
    "def compute_qij(y,y1_index,y2_index):\n",
    "    y1=y[y1_index]\n",
    "    y2=y[y2_index]\n",
    "    num=(1+np.linalg.norm(y1-y2)**2)**(-1)\n",
    "    denom=0\n",
    "    for i in k_neighbours(y,y1_index,'q'):\n",
    "        denom+=i[1]\n",
    "    return num/denom\n",
    "\n",
    "#compute the table q of the yij in the new space\n",
    "def compute_q(y):\n",
    "    table=np.zeros((y.shape[0],y.shape[0]))\n",
    "    for i in range(y.shape[0]):\n",
    "        for j in range(y.shape[0]):\n",
    "            if i!=j:\n",
    "                qij=compute_qij(y,i,j)\n",
    "                table[i,j]=qij\n",
    "    return table\n",
    "\n",
    "#compute the erros between the 2 distributions using the KL-divergence\n",
    "def kl_divergence(p,q):\n",
    "    total=0\n",
    "    for i in range(p.shape[0]):\n",
    "        for j in range(q.shape[0]):\n",
    "            if q[i,j]!=0 and p[i,j]!=0:\n",
    "                total+=p[i,j]*np.log(p[i,j]/q[i,j])\n",
    "    return total\n",
    "\n",
    "#apply gradient descent to lower the KL-divergence\n",
    "def gradient_descent(p,q,y):\n",
    "    for iter in range(EPOCHS):\n",
    "        for i in range(y.shape[0]):\n",
    "            sum_value=0\n",
    "            for j in range(y.shape[0]):\n",
    "                sum_value+=((y[i]-y[j])*(p[i,j]-q[i,j])*(1+np.linalg.norm(y[i]-y[j]**2))**-1)\n",
    "            y[i]-=4*LR*sum_value\n",
    "        if iter%100==0:\n",
    "            q=compute_q(y)\n",
    "            print(kl_divergence(p,q)) \n",
    "    y-=np.mean(y)\n",
    "    y/=np.std(y)\n",
    "    return y"
   ]
  },
  {
   "cell_type": "code",
   "execution_count": 139,
   "metadata": {
    "scrolled": true
   },
   "outputs": [
    {
     "name": "stdout",
     "output_type": "stream",
     "text": [
      "-2.0057338434021394\n",
      "-2.1335419988078357\n",
      "-1.9680415939387885\n",
      "-1.8914396273111955\n",
      "-1.9006524228198989\n",
      "-1.907040772273569\n",
      "-1.9121968860199015\n",
      "-1.9163363996108063\n",
      "-1.9197779080547117\n",
      "-1.9227015474756448\n",
      "-1.9253303471575576\n",
      "-1.9286719987634215\n",
      "-1.9318542212177308\n",
      "-1.9347427104220827\n",
      "-1.937375094134231\n",
      "-1.9397818032904157\n",
      "-1.9419879497534491\n",
      "-1.944014595473558\n",
      "-1.9459573495486664\n",
      "-1.9483910356004341\n"
     ]
    },
    {
     "data": {
      "image/png": "[encoded data removed]",
      "text/plain": [
       "<Figure size 432x288 with 1 Axes>"
      ]
     },
     "metadata": {
      "needs_background": "light"
     },
     "output_type": "display_data"
    }
   ],
   "source": [
    "table_p=compute_p(abstracts)\n",
    "\n",
    "pca = PCA(n_components=2)\n",
    "y = pca.fit_transform(abstracts)\n",
    "\n",
    "table_q=compute_q(y)\n",
    "y=gradient_descent(table_p,table_q,y)\n",
    "\n",
    "plt.scatter(y[:,0],y[:,1])\n",
    "plt.show()"
   ]
  },
  {
   "cell_type": "code",
   "execution_count": 54,
   "metadata": {
    "code_folding": [
     0
    ]
   },
   "outputs": [],
   "source": [
    "def generate_interaction_matrix():\n",
    "    client = MongoClient(URI)\n",
    "    \n",
    "    # get all users recently viewed\n",
    "    db = client.papers.users\n",
    "    \n",
    "    all_viewed = db.find({},{\"recently_viewed\":1})\n",
    "    users_viewed = list(all_viewed)\n",
    "    \n",
    "    # get all papers and their ids\n",
    "    db = client.papers.papers\n",
    "    \n",
    "    all_paper_ids = db.find({\"number_of_clicks\":{\"$gt\":0}},{\"_id\":1})\n",
    "    all_ids = list(all_paper_ids)\n",
    "    \n",
    "    # make dictionary between paper id and index in array\n",
    "    paper_index_map = {}\n",
    "    \n",
    "    i=0\n",
    "    for dic in all_ids:\n",
    "        paper_index_map[dic[\"_id\"]] = i\n",
    "        i+=1\n",
    "    \n",
    "    # make array of zeroes with shape (users,papers)\n",
    "    clicked = np.zeros((len(users_viewed),len(all_ids)))\n",
    "    print(clicked.shape)\n",
    "    # for all users recently viewed change 0 in array to a 1\n",
    "    user_index_map = {}\n",
    "    i=0\n",
    "    for user in users_viewed:\n",
    "        user_index_map[user[\"_id\"]] = i\n",
    "        \n",
    "        for paper in user[\"recently_viewed\"]:\n",
    "            if paper in paper_index_map:\n",
    "                clicked[i,paper_index_map[int(paper)]] = 1\n",
    "        \n",
    "        i+=1\n",
    "    \n",
    "    return clicked,user_index_map, paper_index_map"
   ]
  },
  {
   "cell_type": "code",
   "execution_count": 328,
   "metadata": {},
   "outputs": [],
   "source": [
    "from sklearn.decomposition import PCA\n",
    "\n",
    "def user_factorize(data, paper_vectors, latent_dim,learnining_rate=.1,lmbda=.1,lmbda2=.05,user_start=None, max_iter=1000):\n",
    "    pca = PCA(n_components=latent_dim)\n",
    "    U_comp =pca.fit_transform(paper_vectors).T\n",
    "    m,n = data.shape\n",
    "    P = np.random.uniform(0,latent_dim**.5,size=(latent_dim,m))\n",
    "    \n",
    "    U = np.random.uniform(0,latent_dim**.5,size=(latent_dim,n))\n",
    "    U = U_comp\n",
    "    \n",
    "    loss = []\n",
    "    \n",
    "    users, items = data.nonzero()\n",
    "    \n",
    "    for i in range(max_iter):\n",
    "        for u,p in zip(users, items):\n",
    "            error = data[u,p] - U[:,p]*P[:,u]\n",
    "            P[:,u] += learnining_rate * (error * U[:,p] - lmbda* P[:,u])\n",
    "            U[:,p] += learnining_rate * (error * P[:,u] - lmbda* U[:,p])\n",
    "            \n",
    "        total_error = np.linalg.norm(data- P.T@U,\"fro\") \n",
    "        loss.append(total_error)\n",
    "    return P.T, U.T, loss"
   ]
  },
  {
   "cell_type": "code",
   "execution_count": 345,
   "metadata": {},
   "outputs": [],
   "source": [
    "P,U,loss = user_factorize(rat, abstracts, 2,learnining_rate=.1, max_iter=200,lmbda=.5)"
   ]
  },
  {
   "cell_type": "code",
   "execution_count": 346,
   "metadata": {},
   "outputs": [
    {
     "data": {
      "image/png": "[encoded data removed]",
      "text/plain": [
       "<Figure size 432x288 with 1 Axes>"
      ]
     },
     "metadata": {
      "needs_background": "light"
     },
     "output_type": "display_data"
    }
   ],
   "source": [
    "pca = PCA(n_components=2)\n",
    "y = pca.fit_transform(abstracts)\n",
    "plt.scatter(y[:,0],y[:,1],c=range(12))\n",
    "plt.show()"
   ]
  },
  {
   "cell_type": "code",
   "execution_count": 347,
   "metadata": {},
   "outputs": [
    {
     "data": {
      "image/png": "[encoded data removed]",
      "text/plain": [
       "<Figure size 432x288 with 1 Axes>"
      ]
     },
     "metadata": {
      "needs_background": "light"
     },
     "output_type": "display_data"
    }
   ],
   "source": [
    "plt.scatter(U[:,0],U[:,1],c=range(12))\n",
    "plt.show()"
   ]
  },
  {
   "cell_type": "code",
   "execution_count": 348,
   "metadata": {},
   "outputs": [
    {
     "data": {
      "text/plain": [
       "[<matplotlib.lines.Line2D at 0x180e23f7a08>]"
      ]
     },
     "execution_count": 348,
     "metadata": {},
     "output_type": "execute_result"
    },
    {
     "data": {
      "image/png": "[encoded data removed]",
      "text/plain": [
       "<Figure size 432x288 with 1 Axes>"
      ]
     },
     "metadata": {
      "needs_background": "light"
     },
     "output_type": "display_data"
    }
   ],
   "source": [
    "plt.plot(loss)"
   ]
  },
  {
   "cell_type": "code",
   "execution_count": 349,
   "metadata": {},
   "outputs": [],
   "source": [
    "pred =P@U.T"
   ]
  },
  {
   "cell_type": "code",
   "execution_count": 350,
   "metadata": {},
   "outputs": [
    {
     "data": {
      "text/plain": [
       "(array([[ 9.99999999e-01,  9.99999999e-01,  9.99999953e-01,\n",
       "          9.99999952e-01, -4.07106118e-10, -7.24073823e-10,\n",
       "         -1.39822294e-09, -9.34775931e-10,  9.99999997e-01,\n",
       "          9.99999964e-01,  9.99999968e-01,  1.00000000e+00],\n",
       "        [-6.03631056e-10, -1.11466760e-09,  4.74049188e-08,\n",
       "          4.63252212e-08,  1.00000000e+00,  9.99999999e-01,\n",
       "          9.99999998e-01,  9.99999999e-01, -2.20293969e-11,\n",
       "          3.54067091e-08,  3.09508313e-08, -1.30431733e-15],\n",
       "        [ 9.99999999e-01,  9.99999999e-01,  9.99999953e-01,\n",
       "          9.99999952e-01, -4.07104120e-10, -7.24071825e-10,\n",
       "         -1.39822094e-09, -9.34773933e-10,  9.99999997e-01,\n",
       "          9.99999964e-01,  9.99999968e-01,  1.00000000e+00]]),\n",
       " array([[1., 1., 0., 0., 0., 0., 0., 0., 1., 0., 0., 1.],\n",
       "        [0., 0., 0., 0., 1., 1., 1., 1., 0., 0., 0., 0.],\n",
       "        [0., 0., 1., 1., 0., 0., 0., 0., 0., 1., 1., 1.]]))"
      ]
     },
     "execution_count": 350,
     "metadata": {},
     "output_type": "execute_result"
    }
   ],
   "source": [
    "pred,rat"
   ]
  },
  {
   "cell_type": "code",
   "execution_count": 37,
   "metadata": {},
   "outputs": [],
   "source": [
    "abstracts,new_map = get_abstracts_by_ids(paper_index_map)"
   ]
  },
  {
   "cell_type": "code",
   "execution_count": 47,
   "metadata": {},
   "outputs": [
    {
     "name": "stdout",
     "output_type": "stream",
     "text": [
      "Start objective: 3848.4516061954655\n",
      "Converged: True\n",
      "# iterations: 8\n",
      "Final objective: 5.518658841793084\n"
     ]
    },
    {
     "name": "stderr",
     "output_type": "stream",
     "text": [
      "Some weights of the model checkpoint at allenai/longformer-base-4096 were not used when initializing LongformerModel: ['lm_head.decoder.weight', 'lm_head.layer_norm.weight', 'lm_head.dense.bias', 'lm_head.layer_norm.bias', 'lm_head.dense.weight', 'lm_head.bias']\n",
      "- This IS expected if you are initializing LongformerModel from the checkpoint of a model trained on another task or with another architecture (e.g. initializing a BertForSequenceClassification model from a BertForPreTraining model).\n",
      "- This IS NOT expected if you are initializing LongformerModel from the checkpoint of a model that you expect to be exactly identical (initializing a BertForSequenceClassification model from a BertForSequenceClassification model).\n"
     ]
    },
    {
     "data": {
      "text/plain": [
       "paperBERT(\n",
       "  (longformer): LongformerModel(\n",
       "    (embeddings): LongformerEmbeddings(\n",
       "      (word_embeddings): Embedding(50265, 768, padding_idx=1)\n",
       "      (position_embeddings): Embedding(4098, 768, padding_idx=1)\n",
       "      (token_type_embeddings): Embedding(1, 768)\n",
       "      (LayerNorm): LayerNorm((768,), eps=1e-05, elementwise_affine=True)\n",
       "      (dropout): Dropout(p=0.1, inplace=False)\n",
       "    )\n",
       "    (encoder): LongformerEncoder(\n",
       "      (layer): ModuleList(\n",
       "        (0): LongformerLayer(\n",
       "          (attention): LongformerAttention(\n",
       "            (self): LongformerSelfAttention(\n",
       "              (query): Linear(in_features=768, out_features=768, bias=True)\n",
       "              (key): Linear(in_features=768, out_features=768, bias=True)\n",
       "              (value): Linear(in_features=768, out_features=768, bias=True)\n",
       "              (query_global): Linear(in_features=768, out_features=768, bias=True)\n",
       "              (key_global): Linear(in_features=768, out_features=768, bias=True)\n",
       "              (value_global): Linear(in_features=768, out_features=768, bias=True)\n",
       "            )\n",
       "            (output): LongformerSelfOutput(\n",
       "              (dense): Linear(in_features=768, out_features=768, bias=True)\n",
       "              (LayerNorm): LayerNorm((768,), eps=1e-05, elementwise_affine=True)\n",
       "              (dropout): Dropout(p=0.1, inplace=False)\n",
       "            )\n",
       "          )\n",
       "          (intermediate): LongformerIntermediate(\n",
       "            (dense): Linear(in_features=768, out_features=3072, bias=True)\n",
       "          )\n",
       "          (output): LongformerOutput(\n",
       "            (dense): Linear(in_features=3072, out_features=768, bias=True)\n",
       "            (LayerNorm): LayerNorm((768,), eps=1e-05, elementwise_affine=True)\n",
       "            (dropout): Dropout(p=0.1, inplace=False)\n",
       "          )\n",
       "        )\n",
       "        (1): LongformerLayer(\n",
       "          (attention): LongformerAttention(\n",
       "            (self): LongformerSelfAttention(\n",
       "              (query): Linear(in_features=768, out_features=768, bias=True)\n",
       "              (key): Linear(in_features=768, out_features=768, bias=True)\n",
       "              (value): Linear(in_features=768, out_features=768, bias=True)\n",
       "              (query_global): Linear(in_features=768, out_features=768, bias=True)\n",
       "              (key_global): Linear(in_features=768, out_features=768, bias=True)\n",
       "              (value_global): Linear(in_features=768, out_features=768, bias=True)\n",
       "            )\n",
       "            (output): LongformerSelfOutput(\n",
       "              (dense): Linear(in_features=768, out_features=768, bias=True)\n",
       "              (LayerNorm): LayerNorm((768,), eps=1e-05, elementwise_affine=True)\n",
       "              (dropout): Dropout(p=0.1, inplace=False)\n",
       "            )\n",
       "          )\n",
       "          (intermediate): LongformerIntermediate(\n",
       "            (dense): Linear(in_features=768, out_features=3072, bias=True)\n",
       "          )\n",
       "          (output): LongformerOutput(\n",
       "            (dense): Linear(in_features=3072, out_features=768, bias=True)\n",
       "            (LayerNorm): LayerNorm((768,), eps=1e-05, elementwise_affine=True)\n",
       "            (dropout): Dropout(p=0.1, inplace=False)\n",
       "          )\n",
       "        )\n",
       "        (2): LongformerLayer(\n",
       "          (attention): LongformerAttention(\n",
       "            (self): LongformerSelfAttention(\n",
       "              (query): Linear(in_features=768, out_features=768, bias=True)\n",
       "              (key): Linear(in_features=768, out_features=768, bias=True)\n",
       "              (value): Linear(in_features=768, out_features=768, bias=True)\n",
       "              (query_global): Linear(in_features=768, out_features=768, bias=True)\n",
       "              (key_global): Linear(in_features=768, out_features=768, bias=True)\n",
       "              (value_global): Linear(in_features=768, out_features=768, bias=True)\n",
       "            )\n",
       "            (output): LongformerSelfOutput(\n",
       "              (dense): Linear(in_features=768, out_features=768, bias=True)\n",
       "              (LayerNorm): LayerNorm((768,), eps=1e-05, elementwise_affine=True)\n",
       "              (dropout): Dropout(p=0.1, inplace=False)\n",
       "            )\n",
       "          )\n",
       "          (intermediate): LongformerIntermediate(\n",
       "            (dense): Linear(in_features=768, out_features=3072, bias=True)\n",
       "          )\n",
       "          (output): LongformerOutput(\n",
       "            (dense): Linear(in_features=3072, out_features=768, bias=True)\n",
       "            (LayerNorm): LayerNorm((768,), eps=1e-05, elementwise_affine=True)\n",
       "            (dropout): Dropout(p=0.1, inplace=False)\n",
       "          )\n",
       "        )\n",
       "        (3): LongformerLayer(\n",
       "          (attention): LongformerAttention(\n",
       "            (self): LongformerSelfAttention(\n",
       "              (query): Linear(in_features=768, out_features=768, bias=True)\n",
       "              (key): Linear(in_features=768, out_features=768, bias=True)\n",
       "              (value): Linear(in_features=768, out_features=768, bias=True)\n",
       "              (query_global): Linear(in_features=768, out_features=768, bias=True)\n",
       "              (key_global): Linear(in_features=768, out_features=768, bias=True)\n",
       "              (value_global): Linear(in_features=768, out_features=768, bias=True)\n",
       "            )\n",
       "            (output): LongformerSelfOutput(\n",
       "              (dense): Linear(in_features=768, out_features=768, bias=True)\n",
       "              (LayerNorm): LayerNorm((768,), eps=1e-05, elementwise_affine=True)\n",
       "              (dropout): Dropout(p=0.1, inplace=False)\n",
       "            )\n",
       "          )\n",
       "          (intermediate): LongformerIntermediate(\n",
       "            (dense): Linear(in_features=768, out_features=3072, bias=True)\n",
       "          )\n",
       "          (output): LongformerOutput(\n",
       "            (dense): Linear(in_features=3072, out_features=768, bias=True)\n",
       "            (LayerNorm): LayerNorm((768,), eps=1e-05, elementwise_affine=True)\n",
       "            (dropout): Dropout(p=0.1, inplace=False)\n",
       "          )\n",
       "        )\n",
       "        (4): LongformerLayer(\n",
       "          (attention): LongformerAttention(\n",
       "            (self): LongformerSelfAttention(\n",
       "              (query): Linear(in_features=768, out_features=768, bias=True)\n",
       "              (key): Linear(in_features=768, out_features=768, bias=True)\n",
       "              (value): Linear(in_features=768, out_features=768, bias=True)\n",
       "              (query_global): Linear(in_features=768, out_features=768, bias=True)\n",
       "              (key_global): Linear(in_features=768, out_features=768, bias=True)\n",
       "              (value_global): Linear(in_features=768, out_features=768, bias=True)\n",
       "            )\n",
       "            (output): LongformerSelfOutput(\n",
       "              (dense): Linear(in_features=768, out_features=768, bias=True)\n",
       "              (LayerNorm): LayerNorm((768,), eps=1e-05, elementwise_affine=True)\n",
       "              (dropout): Dropout(p=0.1, inplace=False)\n",
       "            )\n",
       "          )\n",
       "          (intermediate): LongformerIntermediate(\n",
       "            (dense): Linear(in_features=768, out_features=3072, bias=True)\n",
       "          )\n",
       "          (output): LongformerOutput(\n",
       "            (dense): Linear(in_features=3072, out_features=768, bias=True)\n",
       "            (LayerNorm): LayerNorm((768,), eps=1e-05, elementwise_affine=True)\n",
       "            (dropout): Dropout(p=0.1, inplace=False)\n",
       "          )\n",
       "        )\n",
       "        (5): LongformerLayer(\n",
       "          (attention): LongformerAttention(\n",
       "            (self): LongformerSelfAttention(\n",
       "              (query): Linear(in_features=768, out_features=768, bias=True)\n",
       "              (key): Linear(in_features=768, out_features=768, bias=True)\n",
       "              (value): Linear(in_features=768, out_features=768, bias=True)\n",
       "              (query_global): Linear(in_features=768, out_features=768, bias=True)\n",
       "              (key_global): Linear(in_features=768, out_features=768, bias=True)\n",
       "              (value_global): Linear(in_features=768, out_features=768, bias=True)\n",
       "            )\n",
       "            (output): LongformerSelfOutput(\n",
       "              (dense): Linear(in_features=768, out_features=768, bias=True)\n",
       "              (LayerNorm): LayerNorm((768,), eps=1e-05, elementwise_affine=True)\n",
       "              (dropout): Dropout(p=0.1, inplace=False)\n",
       "            )\n",
       "          )\n",
       "          (intermediate): LongformerIntermediate(\n",
       "            (dense): Linear(in_features=768, out_features=3072, bias=True)\n",
       "          )\n",
       "          (output): LongformerOutput(\n",
       "            (dense): Linear(in_features=3072, out_features=768, bias=True)\n",
       "            (LayerNorm): LayerNorm((768,), eps=1e-05, elementwise_affine=True)\n",
       "            (dropout): Dropout(p=0.1, inplace=False)\n",
       "          )\n",
       "        )\n",
       "        (6): LongformerLayer(\n",
       "          (attention): LongformerAttention(\n",
       "            (self): LongformerSelfAttention(\n",
       "              (query): Linear(in_features=768, out_features=768, bias=True)\n",
       "              (key): Linear(in_features=768, out_features=768, bias=True)\n",
       "              (value): Linear(in_features=768, out_features=768, bias=True)\n",
       "              (query_global): Linear(in_features=768, out_features=768, bias=True)\n",
       "              (key_global): Linear(in_features=768, out_features=768, bias=True)\n",
       "              (value_global): Linear(in_features=768, out_features=768, bias=True)\n",
       "            )\n",
       "            (output): LongformerSelfOutput(\n",
       "              (dense): Linear(in_features=768, out_features=768, bias=True)\n",
       "              (LayerNorm): LayerNorm((768,), eps=1e-05, elementwise_affine=True)\n",
       "              (dropout): Dropout(p=0.1, inplace=False)\n",
       "            )\n",
       "          )\n",
       "          (intermediate): LongformerIntermediate(\n",
       "            (dense): Linear(in_features=768, out_features=3072, bias=True)\n",
       "          )\n",
       "          (output): LongformerOutput(\n",
       "            (dense): Linear(in_features=3072, out_features=768, bias=True)\n",
       "            (LayerNorm): LayerNorm((768,), eps=1e-05, elementwise_affine=True)\n",
       "            (dropout): Dropout(p=0.1, inplace=False)\n",
       "          )\n",
       "        )\n",
       "        (7): LongformerLayer(\n",
       "          (attention): LongformerAttention(\n",
       "            (self): LongformerSelfAttention(\n",
       "              (query): Linear(in_features=768, out_features=768, bias=True)\n",
       "              (key): Linear(in_features=768, out_features=768, bias=True)\n",
       "              (value): Linear(in_features=768, out_features=768, bias=True)\n",
       "              (query_global): Linear(in_features=768, out_features=768, bias=True)\n",
       "              (key_global): Linear(in_features=768, out_features=768, bias=True)\n",
       "              (value_global): Linear(in_features=768, out_features=768, bias=True)\n",
       "            )\n",
       "            (output): LongformerSelfOutput(\n",
       "              (dense): Linear(in_features=768, out_features=768, bias=True)\n",
       "              (LayerNorm): LayerNorm((768,), eps=1e-05, elementwise_affine=True)\n",
       "              (dropout): Dropout(p=0.1, inplace=False)\n",
       "            )\n",
       "          )\n",
       "          (intermediate): LongformerIntermediate(\n",
       "            (dense): Linear(in_features=768, out_features=3072, bias=True)\n",
       "          )\n",
       "          (output): LongformerOutput(\n",
       "            (dense): Linear(in_features=3072, out_features=768, bias=True)\n",
       "            (LayerNorm): LayerNorm((768,), eps=1e-05, elementwise_affine=True)\n",
       "            (dropout): Dropout(p=0.1, inplace=False)\n",
       "          )\n",
       "        )\n",
       "        (8): LongformerLayer(\n",
       "          (attention): LongformerAttention(\n",
       "            (self): LongformerSelfAttention(\n",
       "              (query): Linear(in_features=768, out_features=768, bias=True)\n",
       "              (key): Linear(in_features=768, out_features=768, bias=True)\n",
       "              (value): Linear(in_features=768, out_features=768, bias=True)\n",
       "              (query_global): Linear(in_features=768, out_features=768, bias=True)\n",
       "              (key_global): Linear(in_features=768, out_features=768, bias=True)\n",
       "              (value_global): Linear(in_features=768, out_features=768, bias=True)\n",
       "            )\n",
       "            (output): LongformerSelfOutput(\n",
       "              (dense): Linear(in_features=768, out_features=768, bias=True)\n",
       "              (LayerNorm): LayerNorm((768,), eps=1e-05, elementwise_affine=True)\n",
       "              (dropout): Dropout(p=0.1, inplace=False)\n",
       "            )\n",
       "          )\n",
       "          (intermediate): LongformerIntermediate(\n",
       "            (dense): Linear(in_features=768, out_features=3072, bias=True)\n",
       "          )\n",
       "          (output): LongformerOutput(\n",
       "            (dense): Linear(in_features=3072, out_features=768, bias=True)\n",
       "            (LayerNorm): LayerNorm((768,), eps=1e-05, elementwise_affine=True)\n",
       "            (dropout): Dropout(p=0.1, inplace=False)\n",
       "          )\n",
       "        )\n",
       "        (9): LongformerLayer(\n",
       "          (attention): LongformerAttention(\n",
       "            (self): LongformerSelfAttention(\n",
       "              (query): Linear(in_features=768, out_features=768, bias=True)\n",
       "              (key): Linear(in_features=768, out_features=768, bias=True)\n",
       "              (value): Linear(in_features=768, out_features=768, bias=True)\n",
       "              (query_global): Linear(in_features=768, out_features=768, bias=True)\n",
       "              (key_global): Linear(in_features=768, out_features=768, bias=True)\n",
       "              (value_global): Linear(in_features=768, out_features=768, bias=True)\n",
       "            )\n",
       "            (output): LongformerSelfOutput(\n",
       "              (dense): Linear(in_features=768, out_features=768, bias=True)\n",
       "              (LayerNorm): LayerNorm((768,), eps=1e-05, elementwise_affine=True)\n",
       "              (dropout): Dropout(p=0.1, inplace=False)\n",
       "            )\n",
       "          )\n",
       "          (intermediate): LongformerIntermediate(\n",
       "            (dense): Linear(in_features=768, out_features=3072, bias=True)\n",
       "          )\n",
       "          (output): LongformerOutput(\n",
       "            (dense): Linear(in_features=3072, out_features=768, bias=True)\n",
       "            (LayerNorm): LayerNorm((768,), eps=1e-05, elementwise_affine=True)\n",
       "            (dropout): Dropout(p=0.1, inplace=False)\n",
       "          )\n",
       "        )\n",
       "        (10): LongformerLayer(\n",
       "          (attention): LongformerAttention(\n",
       "            (self): LongformerSelfAttention(\n",
       "              (query): Linear(in_features=768, out_features=768, bias=True)\n",
       "              (key): Linear(in_features=768, out_features=768, bias=True)\n",
       "              (value): Linear(in_features=768, out_features=768, bias=True)\n",
       "              (query_global): Linear(in_features=768, out_features=768, bias=True)\n",
       "              (key_global): Linear(in_features=768, out_features=768, bias=True)\n",
       "              (value_global): Linear(in_features=768, out_features=768, bias=True)\n",
       "            )\n",
       "            (output): LongformerSelfOutput(\n",
       "              (dense): Linear(in_features=768, out_features=768, bias=True)\n",
       "              (LayerNorm): LayerNorm((768,), eps=1e-05, elementwise_affine=True)\n",
       "              (dropout): Dropout(p=0.1, inplace=False)\n",
       "            )\n",
       "          )\n",
       "          (intermediate): LongformerIntermediate(\n",
       "            (dense): Linear(in_features=768, out_features=3072, bias=True)\n",
       "          )\n",
       "          (output): LongformerOutput(\n",
       "            (dense): Linear(in_features=3072, out_features=768, bias=True)\n",
       "            (LayerNorm): LayerNorm((768,), eps=1e-05, elementwise_affine=True)\n",
       "            (dropout): Dropout(p=0.1, inplace=False)\n",
       "          )\n",
       "        )\n",
       "        (11): LongformerLayer(\n",
       "          (attention): LongformerAttention(\n",
       "            (self): LongformerSelfAttention(\n",
       "              (query): Linear(in_features=768, out_features=768, bias=True)\n",
       "              (key): Linear(in_features=768, out_features=768, bias=True)\n",
       "              (value): Linear(in_features=768, out_features=768, bias=True)\n",
       "              (query_global): Linear(in_features=768, out_features=768, bias=True)\n",
       "              (key_global): Linear(in_features=768, out_features=768, bias=True)\n",
       "              (value_global): Linear(in_features=768, out_features=768, bias=True)\n",
       "            )\n",
       "            (output): LongformerSelfOutput(\n",
       "              (dense): Linear(in_features=768, out_features=768, bias=True)\n",
       "              (LayerNorm): LayerNorm((768,), eps=1e-05, elementwise_affine=True)\n",
       "              (dropout): Dropout(p=0.1, inplace=False)\n",
       "            )\n",
       "          )\n",
       "          (intermediate): LongformerIntermediate(\n",
       "            (dense): Linear(in_features=768, out_features=3072, bias=True)\n",
       "          )\n",
       "          (output): LongformerOutput(\n",
       "            (dense): Linear(in_features=3072, out_features=768, bias=True)\n",
       "            (LayerNorm): LayerNorm((768,), eps=1e-05, elementwise_affine=True)\n",
       "            (dropout): Dropout(p=0.1, inplace=False)\n",
       "          )\n",
       "        )\n",
       "      )\n",
       "    )\n",
       "    (pooler): LongformerPooler(\n",
       "      (dense): Linear(in_features=768, out_features=768, bias=True)\n",
       "      (activation): Tanh()\n",
       "    )\n",
       "  )\n",
       "  (linear1): Linear(in_features=768, out_features=256, bias=True)\n",
       "  (linear2): Linear(in_features=256, out_features=2, bias=True)\n",
       ")"
      ]
     },
     "execution_count": 47,
     "metadata": {},
     "output_type": "execute_result"
    }
   ],
   "source": [
    "# Hyperparameters\n",
    "latent_dim = 2\n",
    "MAX_ITERATION = 1000\n",
    "TOLERANCE = 1e-4\n",
    "\n",
    "# Get clicked matrix along with the mappings \n",
    "rat,user_index_map,paper_index_map = generate_interaction_matrix()\n",
    "\n",
    "# Factorize matrix\n",
    "U,P = approximate(rat, latent_dim, 1)\n",
    "\n",
    "# get abstracts for input to longformer\n",
    "abstracts,new_map = get_abstracts_by_ids(paper_index_map)\n",
    "\n",
    "# Make PyTorch data loader\n",
    "dataset = ClickedDataset(abstracts, P,new_map)\n",
    "data_loader = DataLoader(dataset, batch_size=10,shuffle=True)\n",
    "\n",
    "# Create Model\n",
    "model = paperBERT(latent_dim) # You can pass the parameters if required to have more flexible model\n",
    "model.to(device) ## can be gpu"
   ]
  },
  {
   "cell_type": "code",
   "execution_count": 6,
   "metadata": {},
   "outputs": [
    {
     "name": "stdout",
     "output_type": "stream",
     "text": [
      "torch.Size([10, 768])\n"
     ]
    }
   ],
   "source": [
    "papers_latent_prediction_before_train = model.predict(list(abstracts[:10]))"
   ]
  },
  {
   "cell_type": "code",
   "execution_count": 9,
   "metadata": {},
   "outputs": [
    {
     "data": {
      "text/plain": [
       "array([[ 0.01132876, -0.23788672,  0.23825852, -0.02143954,  0.00349622,\n",
       "         0.05581367, -0.04997552,  0.09560195, -0.03817378, -0.02161047]])"
      ]
     },
     "execution_count": 9,
     "metadata": {},
     "output_type": "execute_result"
    }
   ],
   "source": [
    "U@papers_latent_prediction_before_train"
   ]
  },
  {
   "cell_type": "code",
   "execution_count": 12,
   "metadata": {},
   "outputs": [
    {
     "data": {
      "text/plain": [
       "array([0., 0., 0., 0., 0., 1., 0., 0., 0., 0.])"
      ]
     },
     "execution_count": 12,
     "metadata": {},
     "output_type": "execute_result"
    }
   ],
   "source": [
    "rat[0,:10]"
   ]
  },
  {
   "cell_type": "code",
   "execution_count": 13,
   "metadata": {},
   "outputs": [],
   "source": [
    "model.train(data_loader,5)"
   ]
  },
  {
   "cell_type": "code",
   "execution_count": 14,
   "metadata": {},
   "outputs": [
    {
     "name": "stdout",
     "output_type": "stream",
     "text": [
      "torch.Size([10, 768])\n"
     ]
    }
   ],
   "source": [
    "papers_latent_prediction_after_train = model.predict(list(abstracts[:10]))"
   ]
  },
  {
   "cell_type": "code",
   "execution_count": 16,
   "metadata": {},
   "outputs": [
    {
     "data": {
      "text/plain": [
       "array([[ 0.000986  ,  0.000987  , -0.00341318,  0.00641557, -0.00110761,\n",
       "        -0.000543  ,  0.00429675,  0.00060941,  0.00138234, -0.00150365],\n",
       "       [ 0.00098602,  0.00098701, -0.00341317,  0.00641559, -0.0011076 ,\n",
       "        -0.00054299,  0.00429678,  0.00060939,  0.00138236, -0.00150365],\n",
       "       [ 0.00098598,  0.00098703, -0.00341321,  0.00641562, -0.00110759,\n",
       "        -0.00054298,  0.00429678,  0.00060939,  0.00138233, -0.00150368],\n",
       "       [ 0.00098598,  0.00098704, -0.0034132 ,  0.00641558, -0.00110761,\n",
       "        -0.00054294,  0.00429673,  0.00060936,  0.00138234, -0.00150369],\n",
       "       [ 0.00098598,  0.000987  , -0.0034132 ,  0.00641561, -0.0011076 ,\n",
       "        -0.00054297,  0.00429674,  0.00060939,  0.00138235, -0.0015037 ],\n",
       "       [ 0.000986  ,  0.00098701, -0.00341316,  0.00641561, -0.00110759,\n",
       "        -0.00054298,  0.00429677,  0.0006094 ,  0.00138233, -0.00150367],\n",
       "       [ 0.00098598,  0.00098702, -0.00341321,  0.00641561, -0.0011076 ,\n",
       "        -0.00054295,  0.00429678,  0.00060938,  0.00138235, -0.00150368],\n",
       "       [ 0.000986  ,  0.000987  , -0.0034132 ,  0.0064156 , -0.00110759,\n",
       "        -0.00054298,  0.00429679,  0.00060938,  0.00138234, -0.00150367],\n",
       "       [ 0.000986  ,  0.00098699, -0.00341317,  0.0064156 , -0.00110762,\n",
       "        -0.00054295,  0.00429674,  0.00060938,  0.00138235, -0.00150369],\n",
       "       [ 0.00098602,  0.000987  , -0.00341318,  0.00641559, -0.00110761,\n",
       "        -0.00054301,  0.00429678,  0.00060939,  0.00138235, -0.00150366]],\n",
       "      dtype=float32)"
      ]
     },
     "execution_count": 16,
     "metadata": {},
     "output_type": "execute_result"
    }
   ],
   "source": [
    "papers_latent_prediction_after_train"
   ]
  },
  {
   "cell_type": "code",
   "execution_count": 2,
   "metadata": {},
   "outputs": [
    {
     "name": "stderr",
     "output_type": "stream",
     "text": [
      "Some weights of the model checkpoint at allenai/longformer-base-4096 were not used when initializing LongformerModel: ['lm_head.dense.bias', 'lm_head.bias', 'lm_head.decoder.weight', 'lm_head.dense.weight', 'lm_head.layer_norm.weight', 'lm_head.layer_norm.bias']\n",
      "- This IS expected if you are initializing LongformerModel from the checkpoint of a model trained on another task or with another architecture (e.g. initializing a BertForSequenceClassification model from a BertForPreTraining model).\n",
      "- This IS NOT expected if you are initializing LongformerModel from the checkpoint of a model that you expect to be exactly identical (initializing a BertForSequenceClassification model from a BertForSequenceClassification model).\n"
     ]
    }
   ],
   "source": [
    "get_last_days_papers()"
   ]
  },
  {
   "cell_type": "code",
   "execution_count": null,
   "metadata": {},
   "outputs": [],
   "source": []
  }
 ],
 "metadata": {
  "kernelspec": {
   "display_name": "Python 3",
   "language": "python",
   "name": "python3"
  },
  "language_info": {
   "codemirror_mode": {
    "name": "ipython",
    "version": 3
   },
   "file_extension": ".py",
   "mimetype": "text/x-python",
   "name": "python",
   "nbconvert_exporter": "python",
   "pygments_lexer": "ipython3",
   "version": "3.7.4"
  }
 },
 "nbformat": 4,
 "nbformat_minor": 2
}
