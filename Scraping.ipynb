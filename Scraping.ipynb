{
 "cells": [
  {
   "cell_type": "code",
   "execution_count": 43,
   "metadata": {},
   "outputs": [
    {
     "data": {
      "text/plain": [
       "device(type='cpu')"
      ]
     },
     "execution_count": 43,
     "metadata": {},
     "output_type": "execute_result"
    }
   ],
   "source": [
    "import numpy as np\n",
    "import pandas as pd\n",
    "from bs4 import BeautifulSoup\n",
    "import requests\n",
    "import re\n",
    "from datetime import date\n",
    "import re\n",
    "import torch\n",
    "import matplotlib.pyplot as plt\n",
    "from pacmap import PaCMAP\n",
    "torch.device('cpu')"
   ]
  },
  {
   "cell_type": "code",
   "execution_count": 2,
   "metadata": {},
   "outputs": [],
   "source": [
    "queries_of_interest = ['computer science', 'computational biology']"
   ]
  },
  {
   "cell_type": "code",
   "execution_count": 3,
   "metadata": {
    "code_folding": []
   },
   "outputs": [
    {
     "name": "stdout",
     "output_type": "stream",
     "text": [
      "['cs.CV', 'cs.AI', 'cs.LG']\n",
      "['cs.CL', 'cs.LG']\n"
     ]
    }
   ],
   "source": [
    "import arxiv\n",
    "search = arxiv.Search(\n",
    "  query = \"computer science\",\n",
    "  max_results = 2,\n",
    "  sort_by = arxiv.SortCriterion.SubmittedDate\n",
    ")\n",
    "\n",
    "for result in search.results():\n",
    "    print(result.categories)"
   ]
  },
  {
   "cell_type": "code",
   "execution_count": 20,
   "metadata": {},
   "outputs": [],
   "source": [
    "def get_data(query,max_results):\n",
    "    search = arxiv.Search(\n",
    "      query = query,\n",
    "      max_results = max_results,\n",
    "      sort_by = arxiv.SortCriterion.SubmittedDate\n",
    "    )\n",
    "    \n",
    "    paper_data = []\n",
    "    \n",
    "    for result in search.results():\n",
    "        category_vector = [result.categories[i] if i<len(result.categories) else \"Nafin\" for i in range(3)]\n",
    "        \n",
    "        \n",
    "        abstract = result.summary.replace('\\n',' ').replace('\\\\&','').replace('\\\\%','')\n",
    "        \n",
    "        re.sub()\n",
    "        temp = [result.title,result.published,abstract,result.pdf_url]\n",
    "        temp.extend(category_vector)\n",
    "        paper_data.append(temp)\n",
    "        \n",
    "    df = pd.DataFrame(data=paper_data, columns=['Title','Date', 'Abstract',\"PDF URL\",'Category1','Category2','Category3'])\n",
    "    \n",
    "    return df"
   ]
  },
  {
   "cell_type": "code",
   "execution_count": 18,
   "metadata": {},
   "outputs": [
    {
     "data": {
      "text/html": [
       "<div>\n",
       "<style scoped>\n",
       "    .dataframe tbody tr th:only-of-type {\n",
       "        vertical-align: middle;\n",
       "    }\n",
       "\n",
       "    .dataframe tbody tr th {\n",
       "        vertical-align: top;\n",
       "    }\n",
       "\n",
       "    .dataframe thead th {\n",
       "        text-align: right;\n",
       "    }\n",
       "</style>\n",
       "<table border=\"1\" class=\"dataframe\">\n",
       "  <thead>\n",
       "    <tr style=\"text-align: right;\">\n",
       "      <th></th>\n",
       "      <th>Title</th>\n",
       "      <th>Date</th>\n",
       "      <th>Abstract</th>\n",
       "      <th>PDF URL</th>\n",
       "      <th>Category1</th>\n",
       "      <th>Category2</th>\n",
       "      <th>Category3</th>\n",
       "    </tr>\n",
       "  </thead>\n",
       "  <tbody>\n",
       "    <tr>\n",
       "      <td>0</td>\n",
       "      <td>What Makes for Hierarchical Vision Transformer?</td>\n",
       "      <td>2021-07-05 17:59:35+00:00</td>\n",
       "      <td>Recent studies show that hierarchical Vision T...</td>\n",
       "      <td>http://arxiv.org/pdf/2107.02174v1</td>\n",
       "      <td>cs.CV</td>\n",
       "      <td>cs.AI</td>\n",
       "      <td>cs.LG</td>\n",
       "    </tr>\n",
       "    <tr>\n",
       "      <td>1</td>\n",
       "      <td>Is Automated Topic Model Evaluation Broken?: T...</td>\n",
       "      <td>2021-07-05 17:58:52+00:00</td>\n",
       "      <td>Topic model evaluation, like evaluation of oth...</td>\n",
       "      <td>http://arxiv.org/pdf/2107.02173v1</td>\n",
       "      <td>cs.CL</td>\n",
       "      <td>cs.LG</td>\n",
       "      <td>Nafin</td>\n",
       "    </tr>\n",
       "    <tr>\n",
       "      <td>2</td>\n",
       "      <td>On Model Calibration for Long-Tailed Object De...</td>\n",
       "      <td>2021-07-05 17:57:20+00:00</td>\n",
       "      <td>Vanilla models for object detection and instan...</td>\n",
       "      <td>http://arxiv.org/pdf/2107.02170v1</td>\n",
       "      <td>cs.CV</td>\n",
       "      <td>cs.AI</td>\n",
       "      <td>cs.LG</td>\n",
       "    </tr>\n",
       "    <tr>\n",
       "      <td>3</td>\n",
       "      <td>Ionisation potentials and electron affinity of...</td>\n",
       "      <td>2021-07-05 17:46:20+00:00</td>\n",
       "      <td>We present high accuracy relativistic coupled ...</td>\n",
       "      <td>http://arxiv.org/pdf/2107.02164v1</td>\n",
       "      <td>physics.atom-ph</td>\n",
       "      <td>Nafin</td>\n",
       "      <td>Nafin</td>\n",
       "    </tr>\n",
       "    <tr>\n",
       "      <td>4</td>\n",
       "      <td>Depth-efficient proofs of quantumness</td>\n",
       "      <td>2021-07-05 17:45:41+00:00</td>\n",
       "      <td>A proof of quantumness is a type of challenge-...</td>\n",
       "      <td>http://arxiv.org/pdf/2107.02163v1</td>\n",
       "      <td>quant-ph</td>\n",
       "      <td>Nafin</td>\n",
       "      <td>Nafin</td>\n",
       "    </tr>\n",
       "    <tr>\n",
       "      <td>...</td>\n",
       "      <td>...</td>\n",
       "      <td>...</td>\n",
       "      <td>...</td>\n",
       "      <td>...</td>\n",
       "      <td>...</td>\n",
       "      <td>...</td>\n",
       "      <td>...</td>\n",
       "    </tr>\n",
       "    <tr>\n",
       "      <td>95</td>\n",
       "      <td>2D hybrid CrCl2(N2C4H4)2 with tunable ferromag...</td>\n",
       "      <td>2021-07-05 08:32:29+00:00</td>\n",
       "      <td>Two-dimensional ferromagnetic (2D FM) half-met...</td>\n",
       "      <td>http://arxiv.org/pdf/2107.01862v1</td>\n",
       "      <td>cond-mat.mtrl-sci</td>\n",
       "      <td>cond-mat.str-el</td>\n",
       "      <td>Nafin</td>\n",
       "    </tr>\n",
       "    <tr>\n",
       "      <td>96</td>\n",
       "      <td>Optimal metrology with variational quantum cir...</td>\n",
       "      <td>2021-07-05 08:30:12+00:00</td>\n",
       "      <td>Cold atoms and ions exhibit unparalleled perfo...</td>\n",
       "      <td>http://arxiv.org/pdf/2107.01860v1</td>\n",
       "      <td>quant-ph</td>\n",
       "      <td>physics.atom-ph</td>\n",
       "      <td>Nafin</td>\n",
       "    </tr>\n",
       "    <tr>\n",
       "      <td>97</td>\n",
       "      <td>Automating Generative Deep Learning for Artist...</td>\n",
       "      <td>2021-07-05 08:26:50+00:00</td>\n",
       "      <td>We present a framework for automating generati...</td>\n",
       "      <td>http://arxiv.org/pdf/2107.01858v1</td>\n",
       "      <td>cs.LG</td>\n",
       "      <td>Nafin</td>\n",
       "      <td>Nafin</td>\n",
       "    </tr>\n",
       "    <tr>\n",
       "      <td>98</td>\n",
       "      <td>A theoretical analysis of one-dimensional disc...</td>\n",
       "      <td>2021-07-05 08:17:50+00:00</td>\n",
       "      <td>Despite the widespread usage of discrete gener...</td>\n",
       "      <td>http://arxiv.org/pdf/2107.01855v1</td>\n",
       "      <td>math.PR</td>\n",
       "      <td>Nafin</td>\n",
       "      <td>Nafin</td>\n",
       "    </tr>\n",
       "    <tr>\n",
       "      <td>99</td>\n",
       "      <td>Poisoning Attack against Estimating from Pairw...</td>\n",
       "      <td>2021-07-05 08:16:01+00:00</td>\n",
       "      <td>As pairwise ranking becomes broadly employed f...</td>\n",
       "      <td>http://arxiv.org/pdf/2107.01854v1</td>\n",
       "      <td>cs.LG</td>\n",
       "      <td>cs.AI</td>\n",
       "      <td>cs.CR</td>\n",
       "    </tr>\n",
       "  </tbody>\n",
       "</table>\n",
       "<p>100 rows × 7 columns</p>\n",
       "</div>"
      ],
      "text/plain": [
       "                                                Title  \\\n",
       "0     What Makes for Hierarchical Vision Transformer?   \n",
       "1   Is Automated Topic Model Evaluation Broken?: T...   \n",
       "2   On Model Calibration for Long-Tailed Object De...   \n",
       "3   Ionisation potentials and electron affinity of...   \n",
       "4               Depth-efficient proofs of quantumness   \n",
       "..                                                ...   \n",
       "95  2D hybrid CrCl2(N2C4H4)2 with tunable ferromag...   \n",
       "96  Optimal metrology with variational quantum cir...   \n",
       "97  Automating Generative Deep Learning for Artist...   \n",
       "98  A theoretical analysis of one-dimensional disc...   \n",
       "99  Poisoning Attack against Estimating from Pairw...   \n",
       "\n",
       "                        Date  \\\n",
       "0  2021-07-05 17:59:35+00:00   \n",
       "1  2021-07-05 17:58:52+00:00   \n",
       "2  2021-07-05 17:57:20+00:00   \n",
       "3  2021-07-05 17:46:20+00:00   \n",
       "4  2021-07-05 17:45:41+00:00   \n",
       "..                       ...   \n",
       "95 2021-07-05 08:32:29+00:00   \n",
       "96 2021-07-05 08:30:12+00:00   \n",
       "97 2021-07-05 08:26:50+00:00   \n",
       "98 2021-07-05 08:17:50+00:00   \n",
       "99 2021-07-05 08:16:01+00:00   \n",
       "\n",
       "                                             Abstract  \\\n",
       "0   Recent studies show that hierarchical Vision T...   \n",
       "1   Topic model evaluation, like evaluation of oth...   \n",
       "2   Vanilla models for object detection and instan...   \n",
       "3   We present high accuracy relativistic coupled ...   \n",
       "4   A proof of quantumness is a type of challenge-...   \n",
       "..                                                ...   \n",
       "95  Two-dimensional ferromagnetic (2D FM) half-met...   \n",
       "96  Cold atoms and ions exhibit unparalleled perfo...   \n",
       "97  We present a framework for automating generati...   \n",
       "98  Despite the widespread usage of discrete gener...   \n",
       "99  As pairwise ranking becomes broadly employed f...   \n",
       "\n",
       "                              PDF URL          Category1        Category2  \\\n",
       "0   http://arxiv.org/pdf/2107.02174v1              cs.CV            cs.AI   \n",
       "1   http://arxiv.org/pdf/2107.02173v1              cs.CL            cs.LG   \n",
       "2   http://arxiv.org/pdf/2107.02170v1              cs.CV            cs.AI   \n",
       "3   http://arxiv.org/pdf/2107.02164v1    physics.atom-ph            Nafin   \n",
       "4   http://arxiv.org/pdf/2107.02163v1           quant-ph            Nafin   \n",
       "..                                ...                ...              ...   \n",
       "95  http://arxiv.org/pdf/2107.01862v1  cond-mat.mtrl-sci  cond-mat.str-el   \n",
       "96  http://arxiv.org/pdf/2107.01860v1           quant-ph  physics.atom-ph   \n",
       "97  http://arxiv.org/pdf/2107.01858v1              cs.LG            Nafin   \n",
       "98  http://arxiv.org/pdf/2107.01855v1            math.PR            Nafin   \n",
       "99  http://arxiv.org/pdf/2107.01854v1              cs.LG            cs.AI   \n",
       "\n",
       "   Category3  \n",
       "0      cs.LG  \n",
       "1      Nafin  \n",
       "2      cs.LG  \n",
       "3      Nafin  \n",
       "4      Nafin  \n",
       "..       ...  \n",
       "95     Nafin  \n",
       "96     Nafin  \n",
       "97     Nafin  \n",
       "98     Nafin  \n",
       "99     cs.CR  \n",
       "\n",
       "[100 rows x 7 columns]"
      ]
     },
     "execution_count": 18,
     "metadata": {},
     "output_type": "execute_result"
    }
   ],
   "source": [
    "get_data(\"computer science\",100)"
   ]
  },
  {
   "cell_type": "code",
   "execution_count": 6,
   "metadata": {},
   "outputs": [
    {
     "data": {
      "application/vnd.jupyter.widget-view+json": {
       "model_id": "5e6faf980ff14ed8b9b615205346edac",
       "version_major": 2,
       "version_minor": 0
      },
      "text/plain": [
       "HBox(children=(IntProgress(value=0, description='Downloading', max=399, style=ProgressStyle(description_width=…"
      ]
     },
     "metadata": {},
     "output_type": "display_data"
    },
    {
     "name": "stdout",
     "output_type": "stream",
     "text": [
      "\n"
     ]
    },
    {
     "data": {
      "application/vnd.jupyter.widget-view+json": {
       "model_id": "9d6f604b5f3c40689d8891bdb4ad6306",
       "version_major": 2,
       "version_minor": 0
      },
      "text/plain": [
       "HBox(children=(IntProgress(value=0, description='Downloading', max=625, style=ProgressStyle(description_width=…"
      ]
     },
     "metadata": {},
     "output_type": "display_data"
    },
    {
     "name": "stdout",
     "output_type": "stream",
     "text": [
      "\n"
     ]
    },
    {
     "data": {
      "application/vnd.jupyter.widget-view+json": {
       "model_id": "2cd0a97347e44b50a21fe819c6b035d4",
       "version_major": 2,
       "version_minor": 0
      },
      "text/plain": [
       "HBox(children=(IntProgress(value=0, description='Downloading', max=231508, style=ProgressStyle(description_wid…"
      ]
     },
     "metadata": {},
     "output_type": "display_data"
    },
    {
     "name": "stdout",
     "output_type": "stream",
     "text": [
      "\n"
     ]
    },
    {
     "data": {
      "application/vnd.jupyter.widget-view+json": {
       "model_id": "94344a573fc6419ca39693594d6baa54",
       "version_major": 2,
       "version_minor": 0
      },
      "text/plain": [
       "HBox(children=(IntProgress(value=0, description='Downloading', max=466081, style=ProgressStyle(description_wid…"
      ]
     },
     "metadata": {},
     "output_type": "display_data"
    },
    {
     "name": "stdout",
     "output_type": "stream",
     "text": [
      "\n"
     ]
    },
    {
     "data": {
      "application/vnd.jupyter.widget-view+json": {
       "model_id": "282c4911c1fa4ae8a1009cc70f9d0a26",
       "version_major": 2,
       "version_minor": 0
      },
      "text/plain": [
       "HBox(children=(IntProgress(value=0, description='Downloading', max=2, style=ProgressStyle(description_width='i…"
      ]
     },
     "metadata": {},
     "output_type": "display_data"
    },
    {
     "name": "stdout",
     "output_type": "stream",
     "text": [
      "\n"
     ]
    },
    {
     "data": {
      "application/vnd.jupyter.widget-view+json": {
       "model_id": "dce45fc55ca4415c81548365950e7d0e",
       "version_major": 2,
       "version_minor": 0
      },
      "text/plain": [
       "HBox(children=(IntProgress(value=0, description='Downloading', max=112, style=ProgressStyle(description_width=…"
      ]
     },
     "metadata": {},
     "output_type": "display_data"
    },
    {
     "name": "stdout",
     "output_type": "stream",
     "text": [
      "\n"
     ]
    },
    {
     "data": {
      "application/vnd.jupyter.widget-view+json": {
       "model_id": "e4e5523bc1c24ee08444a3be5e4acd7d",
       "version_major": 2,
       "version_minor": 0
      },
      "text/plain": [
       "HBox(children=(IntProgress(value=0, description='Downloading', max=438007537, style=ProgressStyle(description_…"
      ]
     },
     "metadata": {},
     "output_type": "display_data"
    },
    {
     "name": "stdout",
     "output_type": "stream",
     "text": [
      "\n"
     ]
    },
    {
     "name": "stderr",
     "output_type": "stream",
     "text": [
      "Asking to truncate to max_length but no maximum length is provided and the model has no predefined maximum length. Default to no truncation.\n"
     ]
    },
    {
     "name": "stdout",
     "output_type": "stream",
     "text": [
      "Sentence embeddings:\n",
      "tensor([[-0.3931,  0.0389,  1.9874,  ..., -0.6094, -1.0946,  0.3265],\n",
      "        [ 0.0615,  0.3274,  1.8332,  ..., -0.1299,  0.4609,  0.2404]])\n"
     ]
    }
   ],
   "source": [
    "from transformers import AutoTokenizer, AutoModel\n",
    "\n",
    "#Mean Pooling - Take attention mask into account for correct averaging\n",
    "\n",
    "\n",
    "\n",
    "# Sentences we want sentence embeddings for\n",
    "sentences = ['This is an example sentence', 'Each sentence is converted']\n",
    "\n",
    "# Load model from HuggingFace Hub\n",
    "\n",
    "\n",
    "# Tokenize sentences\n",
    "\n",
    "\n",
    "# Perform pooling. In this case, max pooling.\n",
    "\n",
    "\n",
    "print(\"Sentence embeddings:\")\n",
    "print(sentence_embeddings)"
   ]
  },
  {
   "cell_type": "code",
   "execution_count": 7,
   "metadata": {},
   "outputs": [
    {
     "data": {
      "text/plain": [
       "torch.Size([2, 768])"
      ]
     },
     "execution_count": 7,
     "metadata": {},
     "output_type": "execute_result"
    }
   ],
   "source": [
    "sentence_embeddings.shape"
   ]
  },
  {
   "cell_type": "code",
   "execution_count": 30,
   "metadata": {},
   "outputs": [],
   "source": [
    "def mean_pooling(model_output, attention_mask):\n",
    "    token_embeddings = model_output[0] #First element of model_output contains all token embeddings\n",
    "    input_mask_expanded = attention_mask.unsqueeze(-1).expand(token_embeddings.size()).float()\n",
    "    return torch.sum(token_embeddings * input_mask_expanded, 1) / torch.clamp(input_mask_expanded.sum(1), min=1e-9)\n",
    "\n",
    "def get_embeddings(df):\n",
    "    tokenizer = AutoTokenizer.from_pretrained('sentence-transformers/bert-base-nli-mean-tokens')\n",
    "    model = AutoModel.from_pretrained('sentence-transformers/bert-base-nli-mean-tokens')\n",
    "    \n",
    "    abstracts = df.Abstract.values\n",
    "    abstracts = [str(a) for a in abstracts]\n",
    "    \n",
    "    encoded_input = tokenizer(abstracts, padding=True, truncation=True, return_tensors='pt')\n",
    "\n",
    "    # Compute token embeddings\n",
    "    with torch.no_grad():\n",
    "        model_output = model(**encoded_input)\n",
    "    \n",
    "    sentence_embeddings = mean_pooling(model_output, encoded_input['attention_mask'])\n",
    "    \n",
    "    return sentence_embeddings.numpy()"
   ]
  },
  {
   "cell_type": "code",
   "execution_count": 40,
   "metadata": {},
   "outputs": [],
   "source": [
    "data = get_data(\"computer science\",100)"
   ]
  },
  {
   "cell_type": "code",
   "execution_count": 41,
   "metadata": {},
   "outputs": [
    {
     "name": "stderr",
     "output_type": "stream",
     "text": [
      "Asking to truncate to max_length but no maximum length is provided and the model has no predefined maximum length. Default to no truncation.\n"
     ]
    }
   ],
   "source": [
    "embeddings = get_embeddings(data)"
   ]
  },
  {
   "cell_type": "code",
   "execution_count": 42,
   "metadata": {},
   "outputs": [
    {
     "data": {
      "text/plain": [
       "(100, 768)"
      ]
     },
     "execution_count": 42,
     "metadata": {},
     "output_type": "execute_result"
    }
   ],
   "source": [
    "embeddings.shape"
   ]
  },
  {
   "cell_type": "code",
   "execution_count": 44,
   "metadata": {},
   "outputs": [],
   "source": [
    "result = PaCMAP().fit_transform(embeddings)"
   ]
  },
  {
   "cell_type": "code",
   "execution_count": 45,
   "metadata": {},
   "outputs": [
    {
     "data": {
      "text/plain": [
       "<matplotlib.collections.PathCollection at 0x2ad0cc00c48>"
      ]
     },
     "execution_count": 45,
     "metadata": {},
     "output_type": "execute_result"
    },
    {
     "data": {
      "image/png": "[encoded data removed]",
      "text/plain": [
       "<Figure size 432x288 with 1 Axes>"
      ]
     },
     "metadata": {
      "needs_background": "light"
     },
     "output_type": "display_data"
    }
   ],
   "source": [
    "plt.scatter(result[:,0],result[:,1])"
   ]
  },
  {
   "cell_type": "code",
   "execution_count": 37,
   "metadata": {},
   "outputs": [],
   "source": [
    "from sklearn.neighbors import KNeighborsTransformer"
   ]
  },
  {
   "cell_type": "code",
   "execution_count": 38,
   "metadata": {},
   "outputs": [],
   "source": [
    "knt = KNeighborsTransformer(n_neighbors=3)\n",
    "knt.fit(result)\n",
    "A = knt.kneighbors_graph(result)"
   ]
  },
  {
   "cell_type": "code",
   "execution_count": 39,
   "metadata": {},
   "outputs": [
    {
     "data": {
      "text/plain": [
       "<1x100 sparse matrix of type '<class 'numpy.float64'>'\n",
       "\twith 3 stored elements in Compressed Sparse Row format>"
      ]
     },
     "execution_count": 39,
     "metadata": {},
     "output_type": "execute_result"
    }
   ],
   "source": [
    "A[0]"
   ]
  },
  {
   "cell_type": "code",
   "execution_count": 46,
   "metadata": {},
   "outputs": [],
   "source": [
    "from IPython.display import clear_output\n",
    "\n",
    "def make_training_data(data):\n",
    "    i = 0\n",
    "    y_vals = np.full(data.shape[0],-1)\n",
    "    for i in range(data.shape[0]):\n",
    "        print(data['Title'].values[i])\n",
    "        print()\n",
    "        print(data['Abstract'].values[i])\n",
    "        val = input(\"Would you read this (1-Yes, 0-No, -1-Exit)\")\n",
    "        if val == \"-1\":\n",
    "            break\n",
    "        y_vals[i] = float(val)\n",
    "        clear_output()\n",
    "    return y_vals"
   ]
  },
  {
   "cell_type": "code",
   "execution_count": 47,
   "metadata": {
    "scrolled": true
   },
   "outputs": [
    {
     "name": "stdout",
     "output_type": "stream",
     "text": [
      "Enhanced prediction for discrete-time input-delayed systems with unknown disturbances\n",
      "\n",
      "This paper deals with the problem of predicting the future state of discrete-time input-delayed systems in the presence of unknown disturbances that can affect both the input and the output equations of the plant. Since the disturbance is unknown, an exact prediction of the plant states is not feasible. We propose the use of a high-order extended Luenberger-type observer for the plant states, disturbances, and their finite difference variables. Then, a new method for computation of the prediction is proposed which, under certain assumptions, allows for enhanced prediction and consequently improved attenuation of the unknown disturbances. Detailed analysis of the performance of the proposed scheme is carried out, while linear matrix inequalities (LMIs) are used for the observer design in order to mitigate the prediction errors.\n",
      "Would you read this (1-Yes, 0-No, -1-Exit)-1\n"
     ]
    },
    {
     "data": {
      "text/plain": [
       "array([ 0,  0,  0,  0,  0,  0,  0,  0,  0,  0,  0,  0,  0,  0,  0,  1,  1,\n",
       "        0,  0,  0,  1,  0,  0,  1,  0,  0,  0,  1,  0,  1,  0,  0,  0,  0,\n",
       "        0,  0,  0,  0,  0,  0,  0,  0,  0,  1,  0,  0,  0,  0,  1,  0,  0,\n",
       "        0,  0,  0,  0,  0,  0,  1,  0,  0, -1, -1, -1, -1, -1, -1, -1, -1,\n",
       "       -1, -1, -1, -1, -1, -1, -1, -1, -1, -1, -1, -1, -1, -1, -1, -1, -1,\n",
       "       -1, -1, -1, -1, -1, -1, -1, -1, -1, -1, -1, -1, -1, -1, -1])"
      ]
     },
     "execution_count": 47,
     "metadata": {},
     "output_type": "execute_result"
    }
   ],
   "source": [
    "make_training_data(data)"
   ]
  },
  {
   "cell_type": "code",
   "execution_count": 48,
   "metadata": {},
   "outputs": [],
   "source": [
    "col = [ 0,  0,  0,  0,  0,  0,  0,  0,  0,  0,  0,  0,  0,  0,  0,  1,  1,\n",
    "        0,  0,  0,  1,  0,  0,  1,  0,  0,  0,  1,  0,  1,  0,  0,  0,  0,\n",
    "        0,  0,  0,  0,  0,  0,  0,  0,  0,  1,  0,  0,  0,  0,  1,  0,  0,\n",
    "        0,  0,  0,  0,  0,  0,  1,  0,  0, -1, -1, -1, -1, -1, -1, -1, -1,\n",
    "       -1, -1, -1, -1, -1, -1, -1, -1, -1, -1, -1, -1, -1, -1, -1, -1, -1,\n",
    "       -1, -1, -1, -1, -1, -1, -1, -1, -1, -1, -1, -1, -1, -1, -1]"
   ]
  },
  {
   "cell_type": "code",
   "execution_count": 49,
   "metadata": {},
   "outputs": [
    {
     "data": {
      "text/plain": [
       "<matplotlib.collections.PathCollection at 0x2ad0cc00908>"
      ]
     },
     "execution_count": 49,
     "metadata": {},
     "output_type": "execute_result"
    },
    {
     "data": {
      "image/png": "[encoded data removed]",
      "text/plain": [
       "<Figure size 432x288 with 1 Axes>"
      ]
     },
     "metadata": {
      "needs_background": "light"
     },
     "output_type": "display_data"
    }
   ],
   "source": [
    "plt.scatter(result[:,0],result[:,1],c=col)"
   ]
  },
  {
   "cell_type": "code",
   "execution_count": 66,
   "metadata": {},
   "outputs": [],
   "source": [
    "def show_closest_papers(df,embeddings,neighbors):\n",
    "    titles,abstracts = df.Title.values, df.Abstract.values\n",
    "    knt = KNeighborsTransformer(n_neighbors=neighbors)\n",
    "    knt.fit(embeddings)\n",
    "    A = knt.kneighbors_graph(embeddings).toarray()\n",
    "    \n",
    "    \n",
    "    for i in range(df.shape[0]):\n",
    "        print(\"Paper to compare: \", titles[i])\n",
    "        print()\n",
    "        print(abstracts[i])\n",
    "        \n",
    "        print()\n",
    "        \n",
    "        print(\"Other Papers: \")\n",
    "        print()\n",
    "        \n",
    "        v = A[i]\n",
    "        close_titles = data.Title.values[(v==1)]\n",
    "        print(close_titles)\n",
    "        \n",
    "        val = input(\"Would you read this (-1-Exit)\")\n",
    "        if val == \"-1\":\n",
    "            break\n",
    "\n",
    "        clear_output()"
   ]
  },
  {
   "cell_type": "code",
   "execution_count": null,
   "metadata": {},
   "outputs": [
    {
     "name": "stdout",
     "output_type": "stream",
     "text": [
      "Paper to compare:  Do Different Tracking Tasks Require Different Appearance Models?\n",
      "\n",
      "Tracking objects of interest in a video is one of the most popular and widely applicable problems in computer vision. However, with the years, a Cambrian explosion of use cases and benchmarks has fragmented the problem in a multitude of different experimental setups. As a consequence, the literature has fragmented too, and now the novel approaches proposed by the community are usually specialised to fit only one specific setup. To understand to what extent this specialisation is actually necessary, in this work we present UniTrack, a unified tracking solution to address five different tasks within the same framework. UniTrack consists of a single and task-agnostic appearance model, which can be learned in a supervised or self-supervised fashion, and multiple \"heads\" to address individual tasks and that do not require training. We show how most tracking tasks can be solved within this framework, and that the same appearance model can be used to obtain performance that is competitive against specialised methods for all the five tasks considered. The framework also allows us to analyse appearance models obtained with the most recent self-supervised methods, thus significantly extending their evaluation and comparison to a larger variety of important problems. Code available at https://github.com/Zhongdao/UniTrack.\n",
      "\n",
      "Other Papers: \n",
      "\n",
      "['What Makes for Hierarchical Vision Transformer?'\n",
      " 'On Model Calibration for Long-Tailed Object Detection and Instance Segmentation'\n",
      " 'Do Different Tracking Tasks Require Different Appearance Models?'\n",
      " 'FFR_FD: Effective and Fast Detection of DeepFakes Based on Feature Point Defects'\n",
      " 'FINT: Field-aware INTeraction Neural Network For CTR Prediction']\n"
     ]
    }
   ],
   "source": [
    "show_closest_papers(data,embeddings,5)"
   ]
  },
  {
   "cell_type": "code",
   "execution_count": null,
   "metadata": {},
   "outputs": [],
   "source": []
  }
 ],
 "metadata": {
  "kernelspec": {
   "display_name": "Python 3",
   "language": "python",
   "name": "python3"
  },
  "language_info": {
   "codemirror_mode": {
    "name": "ipython",
    "version": 3
   },
   "file_extension": ".py",
   "mimetype": "text/x-python",
   "name": "python",
   "nbconvert_exporter": "python",
   "pygments_lexer": "ipython3",
   "version": "3.7.4"
  }
 },
 "nbformat": 4,
 "nbformat_minor": 2
}
