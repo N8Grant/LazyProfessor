{
 "cells": [
  {
   "cell_type": "code",
   "execution_count": 1,
   "metadata": {},
   "outputs": [
    {
     "data": {
      "text/plain": [
       "device(type='cpu')"
      ]
     },
     "execution_count": 1,
     "metadata": {},
     "output_type": "execute_result"
    }
   ],
   "source": [
    "import numpy as np\n",
    "import pandas as pd\n",
    "from bs4 import BeautifulSoup\n",
    "import requests\n",
    "import re\n",
    "from datetime import date\n",
    "import re\n",
    "import torch\n",
    "import matplotlib.pyplot as plt\n",
    "from pacmap import PaCMAP\n",
    "from transformers import AutoTokenizer, AutoModel\n",
    "import arxiv\n",
    "from sklearn.neighbors import KNeighborsTransformer\n",
    "from IPython.display import clear_output\n",
    "torch.device('cpu')"
   ]
  },
  {
   "cell_type": "code",
   "execution_count": 2,
   "metadata": {},
   "outputs": [],
   "source": [
    "queries_of_interest = ['computer science', 'computational biology']"
   ]
  },
  {
   "cell_type": "code",
   "execution_count": 3,
   "metadata": {
    "code_folding": []
   },
   "outputs": [
    {
     "name": "stdout",
     "output_type": "stream",
     "text": [
      "['math.ST', 'math.PR', 'stat.TH']\n",
      "['cs.CV', 'cs.LG', 'eess.IV']\n"
     ]
    }
   ],
   "source": [
    "\n",
    "search = arxiv.Search(\n",
    "  query = \"computer science\",\n",
    "  max_results = 2,\n",
    "  sort_by = arxiv.SortCriterion.SubmittedDate\n",
    ")\n",
    "\n",
    "for result in search.results():\n",
    "    print(result.categories)"
   ]
  },
  {
   "cell_type": "code",
   "execution_count": 4,
   "metadata": {},
   "outputs": [],
   "source": [
    "def get_data(query,max_results):\n",
    "    search = arxiv.Search(\n",
    "      query = query,\n",
    "      max_results = max_results,\n",
    "      sort_by = arxiv.SortCriterion.SubmittedDate\n",
    "    )\n",
    "    \n",
    "    paper_data = []\n",
    "    \n",
    "    for result in search.results():\n",
    "        category_vector = [result.categories[i] if i<len(result.categories) else \"Nafin\" for i in range(3)]\n",
    "        \n",
    "        \n",
    "        abstract = result.summary.replace('\\n',' ').replace('\\\\&','').replace('\\\\%','')\n",
    "        \n",
    "        temp = [result.title,result.published,abstract,result.pdf_url]\n",
    "        temp.extend(category_vector)\n",
    "        paper_data.append(temp)\n",
    "        \n",
    "    df = pd.DataFrame(data=paper_data, columns=['Title','Date', 'Abstract',\"PDF URL\",'Category1','Category2','Category3'])\n",
    "    \n",
    "    return df"
   ]
  },
  {
   "cell_type": "code",
   "execution_count": 5,
   "metadata": {},
   "outputs": [],
   "source": [
    "def mean_pooling(model_output, attention_mask):\n",
    "    token_embeddings = model_output[0] #First element of model_output contains all token embeddings\n",
    "    input_mask_expanded = attention_mask.unsqueeze(-1).expand(token_embeddings.size()).float()\n",
    "    return torch.sum(token_embeddings * input_mask_expanded, 1) / torch.clamp(input_mask_expanded.sum(1), min=1e-9)\n",
    "\n",
    "def get_embeddings(df):\n",
    "    tokenizer = AutoTokenizer.from_pretrained('sentence-transformers/bert-base-nli-mean-tokens')\n",
    "    model = AutoModel.from_pretrained('sentence-transformers/bert-base-nli-mean-tokens')\n",
    "    \n",
    "    abstracts = df.Abstract.values\n",
    "    abstracts = [str(a) for a in abstracts]\n",
    "    \n",
    "    encoded_input = tokenizer(abstracts, padding=True, truncation=True, return_tensors='pt')\n",
    "\n",
    "    # Compute token embeddings\n",
    "    with torch.no_grad():\n",
    "        model_output = model(**encoded_input)\n",
    "    \n",
    "    sentence_embeddings = mean_pooling(model_output, encoded_input['attention_mask'])\n",
    "    \n",
    "    return sentence_embeddings.numpy()"
   ]
  },
  {
   "cell_type": "code",
   "execution_count": 6,
   "metadata": {},
   "outputs": [],
   "source": [
    "data = get_data(\"computer science\",100)"
   ]
  },
  {
   "cell_type": "code",
   "execution_count": 7,
   "metadata": {},
   "outputs": [
    {
     "name": "stderr",
     "output_type": "stream",
     "text": [
      "Asking to truncate to max_length but no maximum length is provided and the model has no predefined maximum length. Default to no truncation.\n"
     ]
    }
   ],
   "source": [
    "embeddings = get_embeddings(data)"
   ]
  },
  {
   "cell_type": "code",
   "execution_count": 8,
   "metadata": {},
   "outputs": [
    {
     "data": {
      "text/plain": [
       "(100, 768)"
      ]
     },
     "execution_count": 8,
     "metadata": {},
     "output_type": "execute_result"
    }
   ],
   "source": [
    "embeddings.shape"
   ]
  },
  {
   "cell_type": "code",
   "execution_count": 9,
   "metadata": {},
   "outputs": [],
   "source": [
    "result = PaCMAP().fit_transform(embeddings)"
   ]
  },
  {
   "cell_type": "code",
   "execution_count": 10,
   "metadata": {},
   "outputs": [
    {
     "data": {
      "text/plain": [
       "<matplotlib.collections.PathCollection at 0x17271e8e7c8>"
      ]
     },
     "execution_count": 10,
     "metadata": {},
     "output_type": "execute_result"
    },
    {
     "data": {
      "image/png": "[encoded data removed]",
      "text/plain": [
       "<Figure size 432x288 with 1 Axes>"
      ]
     },
     "metadata": {
      "needs_background": "light"
     },
     "output_type": "display_data"
    }
   ],
   "source": [
    "plt.scatter(result[:,0],result[:,1])"
   ]
  },
  {
   "cell_type": "code",
   "execution_count": 11,
   "metadata": {},
   "outputs": [],
   "source": [
    "knt = KNeighborsTransformer(n_neighbors=3)\n",
    "knt.fit(result)\n",
    "A = knt.kneighbors_graph(result)"
   ]
  },
  {
   "cell_type": "code",
   "execution_count": 13,
   "metadata": {},
   "outputs": [],
   "source": [
    "def make_training_data(data):\n",
    "    i = 0\n",
    "    y_vals = np.full(data.shape[0],-1)\n",
    "    for i in range(data.shape[0]):\n",
    "        print(data['Title'].values[i])\n",
    "        print()\n",
    "        print(data['Abstract'].values[i])\n",
    "        val = input(\"Would you read this (1-Yes, 0-No, -1-Exit)\")\n",
    "        if val == \"-1\":\n",
    "            break\n",
    "        y_vals[i] = float(val)\n",
    "        clear_output()\n",
    "    return y_vals"
   ]
  },
  {
   "cell_type": "code",
   "execution_count": 22,
   "metadata": {
    "scrolled": true
   },
   "outputs": [
    {
     "name": "stdout",
     "output_type": "stream",
     "text": [
      "Feedback Vertex Set on Geometric Intersection Graphs\n",
      "\n",
      "In this paper, we present an algorithm for computing a feedback vertex set of a unit disk graph of size $k$, if it exists, which runs in time $2^{O(\\sqrt{k})}(n+m)$, where $n$ and $m$ denote the numbers of vertices and edges, respectively. This improves the $2^{O(\\sqrt{k}\\log k)}n^{O(1)}$-time algorithm for this problem on unit disk graphs by Fomin et al. [ICALP 2017]. Moreover, our algorithm is optimal assuming the exponential-time hypothesis. Also, our algorithm can be extended to handle geometric intersection graphs of similarly sized fat objects without increasing the running time.\n",
      "Would you read this (1-Yes, 0-No, -1-Exit)-1\n"
     ]
    }
   ],
   "source": [
    "col = make_training_data(data)"
   ]
  },
  {
   "cell_type": "code",
   "execution_count": 23,
   "metadata": {},
   "outputs": [
    {
     "data": {
      "text/plain": [
       "<matplotlib.collections.PathCollection at 0x1df7d0e2c88>"
      ]
     },
     "execution_count": 23,
     "metadata": {},
     "output_type": "execute_result"
    },
    {
     "data": {
      "image/png": "[encoded data removed]",
      "text/plain": [
       "<Figure size 432x288 with 1 Axes>"
      ]
     },
     "metadata": {
      "needs_background": "light"
     },
     "output_type": "display_data"
    }
   ],
   "source": [
    "plt.scatter(result[:,0],result[:,1],c=col)"
   ]
  },
  {
   "cell_type": "code",
   "execution_count": 21,
   "metadata": {},
   "outputs": [],
   "source": [
    "def show_closest_papers(df,embeddings,neighbors):\n",
    "    titles,abstracts = df.Title.values, df.Abstract.values\n",
    "    knt = KNeighborsTransformer(n_neighbors=neighbors,metric='cosine')\n",
    "    knt.fit(embeddings)\n",
    "    A = knt.kneighbors_graph(embeddings).toarray()\n",
    "    \n",
    "    \n",
    "    for i in range(df.shape[0]):\n",
    "        print(\"Paper to compare: \", titles[i])\n",
    "        print()\n",
    "        print(abstracts[i])\n",
    "        \n",
    "        print()\n",
    "        \n",
    "        print(\"Other Papers: \")\n",
    "        print()\n",
    "        \n",
    "        v = A[i]\n",
    "        close_titles = data.Title.values[(v==1)]\n",
    "        print(close_titles)\n",
    "        \n",
    "        val = input(\" (-1-Exit)\")\n",
    "        if val == \"-1\":\n",
    "            break\n",
    "\n",
    "        clear_output()"
   ]
  },
  {
   "cell_type": "code",
   "execution_count": 20,
   "metadata": {},
   "outputs": [
    {
     "name": "stdout",
     "output_type": "stream",
     "text": [
      "Paper to compare:  ViTGAN: Training GANs with Vision Transformers\n",
      "\n",
      "Recently, Vision Transformers (ViTs) have shown competitive performance on image recognition while requiring less vision-specific inductive biases. In this paper, we investigate if such observation can be extended to image generation. To this end, we integrate the ViT architecture into generative adversarial networks (GANs). We observe that existing regularization methods for GANs interact poorly with self-attention, causing serious instability during training. To resolve this issue, we introduce novel regularization techniques for training GANs with ViTs. Empirically, our approach, named ViTGAN, achieves comparable performance to state-of-the-art CNN-based StyleGAN2 on CIFAR-10, CelebA, and LSUN bedroom datasets.\n",
      "\n",
      "Other Papers: \n",
      "\n",
      "['ViTGAN: Training GANs with Vision Transformers'\n",
      " 'ANCER: Anisotropic Certification via Sample-wise Volume Maximization'\n",
      " 'Gradient-Based Quantification of Epistemic Uncertainty for Deep Object Detectors'\n",
      " 'Score refinement for confidence-based 3D multi-object tracking'\n",
      " 'Retinal OCT Denoising with Pseudo-Multimodal Fusion Network']\n",
      " (-1-Exit)-1\n"
     ]
    }
   ],
   "source": [
    "show_closest_papers(data,embeddings,5)"
   ]
  },
  {
   "cell_type": "markdown",
   "metadata": {},
   "source": [
    "## Get Citations of Papers"
   ]
  },
  {
   "cell_type": "code",
   "execution_count": null,
   "metadata": {},
   "outputs": [],
   "source": []
  }
 ],
 "metadata": {
  "kernelspec": {
   "display_name": "Python 3",
   "language": "python",
   "name": "python3"
  },
  "language_info": {
   "codemirror_mode": {
    "name": "ipython",
    "version": 3
   },
   "file_extension": ".py",
   "mimetype": "text/x-python",
   "name": "python",
   "nbconvert_exporter": "python",
   "pygments_lexer": "ipython3",
   "version": "3.7.4"
  }
 },
 "nbformat": 4,
 "nbformat_minor": 2
}
